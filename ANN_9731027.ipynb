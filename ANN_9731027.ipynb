{
 "cells": [
  {
   "cell_type": "code",
   "execution_count": 1,
   "metadata": {
    "id": "APBiio_nJuHP"
   },
   "outputs": [],
   "source": [
    "import numpy as np\n",
    "import random\n",
    "import pickle\n",
    "import matplotlib.pyplot as plt\n",
    "import time"
   ]
  },
  {
   "cell_type": "code",
   "execution_count": 2,
   "metadata": {
    "id": "jScECeh7JuHW"
   },
   "outputs": [],
   "source": [
    "def read_data(data_file, label_file, std):\n",
    "    f = open(data_file, \"rb\")\n",
    "    data2 = pickle.load(f)\n",
    "    f.close()\n",
    "    \n",
    "    data_STDs = np.std(a=data2, axis=0)\n",
    "    data = data2[:, data_STDs > std]\n",
    "    \n",
    "    data = np.divide(data, data.max())\n",
    "    \n",
    "    f = open(label_file, \"rb\")\n",
    "    data_label = pickle.load(f)\n",
    "    f.close()\n",
    "    \n",
    "    data_set = []\n",
    "    \n",
    "    for i in range(len(data)):\n",
    "        label = np.array([0,0,0,0])\n",
    "        label[int(data_label[i])] = 1\n",
    "        label = label.reshape(4,1)\n",
    "        data_set.append((data[i].reshape(102,1), label))\n",
    "        \n",
    "    return data_set"
   ]
  },
  {
   "cell_type": "code",
   "execution_count": 3,
   "metadata": {
    "colab": {
     "base_uri": "https://localhost:8080/",
     "height": 343
    },
    "id": "vxQneUF1JuHY",
    "outputId": "056bfbc9-387f-4567-86d9-29d83ce6ad8a"
   },
   "outputs": [],
   "source": [
    "train_set = read_data(\"D:/My Projects/university/ebad/ANN_Project_Assets/Datasets/train_set_features.pkl\", \"D:/My Projects/university/ebad/ANN_Project_Assets/Datasets/train_set_labels.pkl\", 52.3)\n",
    "test_set = read_data(\"D:/My Projects/university/ebad/ANN_Project_Assets/Datasets/test_set_features.pkl\", \"D:/My Projects/university/ebad/ANN_Project_Assets/Datasets/test_set_labels.pkl\", 48)"
   ]
  },
  {
   "cell_type": "code",
   "execution_count": 54,
   "metadata": {
    "id": "nkqd06tQJuHZ"
   },
   "outputs": [
    {
     "name": "stdout",
     "output_type": "stream",
     "text": [
      "1962\n"
     ]
    }
   ],
   "source": [
    "print(len(train_set))\n",
    "test_valid = np.copy(list(train_set))\n",
    "np.random.shuffle(test_valid)\n",
    "examination_set = test_valid[0:200]"
   ]
  },
  {
   "cell_type": "code",
   "execution_count": 5,
   "metadata": {
    "id": "jwLFgRM9JuHb"
   },
   "outputs": [],
   "source": [
    "def generate_wb():\n",
    "    b0 = np.zeros((150, 1))\n",
    "    b1 = np.zeros((60, 1))\n",
    "    b2 = np.zeros((4, 1))\n",
    "    \n",
    "    w0 = np.random.randn(150, 102)\n",
    "    w1 = np.random.randn(60, 150)\n",
    "    w2 = np.random.randn(4, 60)\n",
    "    \n",
    "    w = [w0, w1, w2]\n",
    "    b = [b0, b1, b2]\n",
    "    \n",
    "    return w, b"
   ]
  },
  {
   "cell_type": "code",
   "execution_count": 6,
   "metadata": {
    "id": "bwWm6QIaJuHc"
   },
   "outputs": [],
   "source": [
    "import math\n",
    "\n",
    "def sigmoid(x):\n",
    "    if x < 0:\n",
    "        return 1 - 1 / (1 + math.exp(x))\n",
    "    else:\n",
    "        return 1 / (1 + math.exp(-x))\n",
    "\n",
    "def prime(x):\n",
    "    return sigmoid(x) * (1 - sigmoid(x))\n",
    "\n",
    "sigmoidVector = np.vectorize(sigmoid)\n",
    "primeVector = np.vectorize(prime)"
   ]
  },
  {
   "cell_type": "code",
   "execution_count": 75,
   "metadata": {
    "id": "R_G6aQ5KJuHe"
   },
   "outputs": [],
   "source": [
    "def feedforward(x, W, b):\n",
    "    z = [0, 0, 0]\n",
    "    a = [0, 0, 0]\n",
    "    \n",
    "    z[0] = ((W[0] @ x) + b[0])\n",
    "    a[0] = sigmoidVector(z[0])\n",
    "    \n",
    "    z[1] = (W[1] @ sigmoidVector(z[0]) + b[1])\n",
    "    a[1] = sigmoidVector(z[1])\n",
    "    \n",
    "    z[2] = (W[2] @ sigmoidVector(z[1]) + b[2])\n",
    "    a[2] = sigmoidVector(z[2])\n",
    "    \n",
    "    return a, z"
   ]
  },
  {
   "cell_type": "code",
   "execution_count": 8,
   "metadata": {
    "id": "2-W66zc9KpGO"
   },
   "outputs": [],
   "source": [
    "def getcost(a, y):\n",
    "    cost = 0\n",
    "    for i in range(4):\n",
    "        cost += (a[i] - y[i]) ** 2\n",
    "    return cost"
   ]
  },
  {
   "cell_type": "code",
   "execution_count": 9,
   "metadata": {
    "id": "7nyZ-kVHJuHf"
   },
   "outputs": [],
   "source": [
    "def SGD(input_set, W, b):\n",
    "    start = time.process_time()\n",
    "    batch_size = 10\n",
    "    learning_rate = 1\n",
    "    number_of_epochs = 5\n",
    "    data_set = np.copy(input_set)\n",
    "    costs = []\n",
    "    \n",
    "    for i in range(number_of_epochs):\n",
    "        np.random.shuffle(data_set)\n",
    "        batches = []\n",
    "        cost = 0\n",
    "        \n",
    "        for l in range(0, len(data_set), batch_size):\n",
    "            batches.append(data_set[l: l + batch_size])\n",
    "            \n",
    "        for batch in batches:\n",
    "            \n",
    "            for image in batch:\n",
    "                W2_grad = np.zeros((4, 60))\n",
    "                b2_grad = np.zeros((4, 1))\n",
    "                a2_grad = np.zeros((60, 1))\n",
    "                W1_grad = np.zeros((60, 150))\n",
    "                b1_grad = np.zeros((60, 1))\n",
    "                a1_grad = np.zeros((150, 1))\n",
    "                W0_grad = np.zeros((150, 102))\n",
    "                b0_grad = np.zeros((150, 1))\n",
    "                W_grad = [W0_grad, W1_grad, W2_grad]\n",
    "                b_grad = [b0_grad, b1_grad, b2_grad]\n",
    "                \n",
    "                x = image[0]\n",
    "                y = image[1]\n",
    "                a, z = feedforward(x, W, b)\n",
    "                cost += getcost(a[2],y)\n",
    "                \n",
    "                #last layer\n",
    "                for j in range(4):\n",
    "                    b_grad[2][j, 0] += 2 * (a[2][j, 0] - y[j,0]) * primeVector(z[2][j, 0])\n",
    "                    for k in range(60):\n",
    "                        W_grad[2][j][k] += 2 * (a[2][j, 0] - y[j,0]) *  primeVector(z[2][j, 0]) * a [1][k, 0]\n",
    "\n",
    "                for k in range(60):\n",
    "                    for j in range(4):\n",
    "                        a2_grad[k, 0] += primeVector(z[2][j, 0]) * W[2][j][k] * 2 * (a[2][j, 0] - y[j,0])\n",
    "\n",
    "                #3rd layer\n",
    "                for j in range(60):\n",
    "                    b_grad[1][j, 0] += a2_grad[j, 0] * primeVector(z[1][j, 0]) #ihi\n",
    "                    for k in range(150):\n",
    "                        W_grad[1][j][k] += a2_grad[j,0] * primeVector(z[1][j, 0]) * a[0][k, 0] #problem\n",
    "\n",
    "                for k in range(150):\n",
    "                    for j in range(60):\n",
    "                        a1_grad[k, 0] += a2_grad[j, 0] * primeVector(z[1][j, 0]) * W[1][j, k]\n",
    "\n",
    "                #second layer\n",
    "                for j in range(150):\n",
    "                    b_grad[0][j, 0] += a1_grad[j, 0] * primeVector(z[0][j, 0])\n",
    "                    for k in range(102): \n",
    "                        W_grad[0][j][k] += a1_grad[j, 0] * primeVector(z[0][j, 0]) * x[k]\n",
    "\n",
    "            #updating\n",
    "            for j in range(4):\n",
    "                b[2][j, 0] = b[2][j, 0] - learning_rate * (b_grad[2][j, 0] / batch_size)\n",
    "                for k in range(60):\n",
    "                    W[2][j, k] = W[2][j, k] - learning_rate * (W_grad[2][j,k] / batch_size)\n",
    "\n",
    "            for j in range(60):\n",
    "                b[1][j, 0] = b[1][j, 0] - learning_rate * (b_grad[1][j, 0] / batch_size)\n",
    "                for k in range(150):\n",
    "                    W[1][j, k] = W[1][j, k] - learning_rate * (W_grad[1][j, k] / batch_size)\n",
    "\n",
    "            for j in range(150):\n",
    "                b[0][j, 0] = b[0][j, 0] - learning_rate * (b_grad[0][j, 0] / batch_size)\n",
    "                for k in range(102):\n",
    "                    W[0][j, k] = W[0][j, k] - learning_rate * (W_grad[0][j, k] / batch_size)\n",
    "        costs.append(cost / len(data_set))\n",
    "    \n",
    "    print(\"Time:\")\n",
    "    print(time.process_time() - start)\n",
    "    return W, b, costs"
   ]
  },
  {
   "cell_type": "code",
   "execution_count": 10,
   "metadata": {
    "id": "8NxV3teRLaC9"
   },
   "outputs": [],
   "source": [
    "def getFinal(x, W, b):\n",
    "    a, _ = feedforward(x, W, b)\n",
    "    return np.argmax(a[2])\n",
    "\n",
    "def measure_accuracy(X_set, W, b):\n",
    "    result = [getFinal(image[0], W, b) for image in X_set]\n",
    "    return sum(1 for i, image in enumerate(X_set) if np.argmax(image[1]) == result[i]) / len(X_set) * 100\n"
   ]
  },
  {
   "cell_type": "code",
   "execution_count": 11,
   "metadata": {
    "id": "FGFwgCF8JuHh"
   },
   "outputs": [],
   "source": [
    "W, b = generate_wb()"
   ]
  },
  {
   "cell_type": "code",
   "execution_count": 86,
   "metadata": {},
   "outputs": [
    {
     "name": "stdout",
     "output_type": "stream",
     "text": [
      "21.5\n"
     ]
    }
   ],
   "source": [
    "print(measure_accuracy(examination_set, W, b))"
   ]
  },
  {
   "cell_type": "code",
   "execution_count": 87,
   "metadata": {},
   "outputs": [
    {
     "name": "stdout",
     "output_type": "stream",
     "text": [
      "Time:\n",
      "1707.296875\n"
     ]
    }
   ],
   "source": [
    "W_new, b_new, costs = SGD(list(examination_set), W, b)"
   ]
  },
  {
   "cell_type": "code",
   "execution_count": 88,
   "metadata": {
    "id": "mdaVRH7TJuHj"
   },
   "outputs": [
    {
     "name": "stdout",
     "output_type": "stream",
     "text": [
      "58.5\n"
     ]
    },
    {
     "data": {
      "text/plain": [
       "[<matplotlib.lines.Line2D at 0x16c0521cdd8>]"
      ]
     },
     "execution_count": 88,
     "metadata": {},
     "output_type": "execute_result"
    },
    {
     "data": {
      "image/png": "[encoded data removed]",
      "text/plain": [
       "<Figure size 432x288 with 1 Axes>"
      ]
     },
     "metadata": {
      "needs_background": "light"
     },
     "output_type": "display_data"
    }
   ],
   "source": [
    "print(measure_accuracy(examination_set, W_new, b_new))\n",
    "plt.plot(costs)"
   ]
  },
  {
   "cell_type": "code",
   "execution_count": 78,
   "metadata": {},
   "outputs": [],
   "source": [
    "def V_SGD(input_set, batch_size, learning_rate, number_of_epochs):\n",
    "    W, b = generate_wb()\n",
    "    costs = []\n",
    "    train_set = input_set.copy()\n",
    "\n",
    "    for i in range(number_of_epochs):\n",
    "        cost = 0\n",
    "        np.random.shuffle(train_set)\n",
    "        batches = []\n",
    "\n",
    "        for l in range(0,len(train_set), batch_size):\n",
    "            batches.append(train_set[l: l + batch_size])\n",
    "\n",
    "        for batch in batches:\n",
    "    \n",
    "\n",
    "            for image in batch:\n",
    "                W2_grad = np.zeros((4, 60))\n",
    "                b2_grad = np.zeros((4, 1))\n",
    "                a2_grad = np.zeros((60, 1))\n",
    "                W1_grad = np.zeros((60, 150))\n",
    "                b1_grad = np.zeros((60, 1))\n",
    "                a1_grad = np.zeros((150, 1))\n",
    "                W0_grad = np.zeros((150, 102))\n",
    "                b0_grad = np.zeros((150, 1))\n",
    "                W_grad = [W0_grad, W1_grad, W2_grad]\n",
    "                b_grad = [b0_grad, b1_grad, b2_grad]\n",
    "                x = image[0]\n",
    "                y = image[1]\n",
    "                a, z = feedforward(x, W, b)\n",
    "                cost += getcost(a[2],y)\n",
    "                b_grad[2] += 2 * primeVector(z[2]) * (a[2] - y)\n",
    "                W_grad[2] += (2 * primeVector(z[2])* (a[2] - y)) @ np.transpose(a[1])\n",
    "                a2_grad += np.transpose(W[2]) @ (2 * primeVector(z[2]) * (a[2] - y))\n",
    "                b_grad[1] += a2_grad * primeVector(z[1])\n",
    "                W_grad[1] += a2_grad * primeVector(z[1]) @ np.transpose(a[0]) \n",
    "                a1_grad += np.transpose(W[1]) @ (a2_grad * primeVector(z[1]))\n",
    "                b_grad[0] += a1_grad * primeVector(z[0])\n",
    "                x = x.reshape(102,1)\n",
    "                W_grad[0] += (a1_grad * primeVector(z[0])) @ np.transpose(x)\n",
    "            b[2] = b[2] - learning_rate * (b_grad[2] / batch_size)\n",
    "            b[1] = b[1] - learning_rate * (b_grad[1] / batch_size)\n",
    "            b[0] = b[0] - learning_rate * (b_grad[0] / batch_size)\n",
    "            W[2] = W[2] - learning_rate * (W_grad[2] / batch_size)\n",
    "            W[1] = W[1] - learning_rate * (W_grad[1] / batch_size)\n",
    "            W[0] = W[0] - learning_rate * (W_grad[0] / batch_size)\n",
    "        costs.append(cost / len(train_set))\n",
    "    return W, b, costs"
   ]
  },
  {
   "cell_type": "code",
   "execution_count": 79,
   "metadata": {},
   "outputs": [],
   "source": [
    "accuracy = 0\n",
    "ave_costs = []\n",
    "for i in range(10):\n",
    "    W_2, b_2, costs = V_SGD(list(examination_set), batch_size=10, learning_rate=1, number_of_epochs=20)\n",
    "    \n",
    "    if i == 0:\n",
    "        ave_costs = costs\n",
    "    else:\n",
    "        ave_costs = [x + y for (x, y) in zip(ave_costs, costs)]\n",
    "        \n",
    "    acc = measure_accuracy(examination_set, W_2, b_2)\n",
    "    accuracy += acc\n",
    "    "
   ]
  },
  {
   "cell_type": "code",
   "execution_count": 80,
   "metadata": {},
   "outputs": [
    {
     "name": "stdout",
     "output_type": "stream",
     "text": [
      "result-train-200\n",
      "62.8\n"
     ]
    },
    {
     "data": {
      "text/plain": [
       "[<matplotlib.lines.Line2D at 0x16c040f6080>]"
      ]
     },
     "execution_count": 80,
     "metadata": {},
     "output_type": "execute_result"
    },
    {
     "data": {
      "image/png": "[encoded data removed]",
      "text/plain": [
       "<Figure size 432x288 with 1 Axes>"
      ]
     },
     "metadata": {
      "needs_background": "light"
     },
     "output_type": "display_data"
    }
   ],
   "source": [
    "print(\"result-train-200\")  \n",
    "print(accuracy/10)\n",
    "plt.plot([x / 10 for x in ave_costs])"
   ]
  },
  {
   "cell_type": "code",
   "execution_count": 81,
   "metadata": {},
   "outputs": [],
   "source": [
    "accuracy = 0\n",
    "ave_costs = []\n",
    "for i in range(10):\n",
    "    W_2, b_2, costs = V_SGD(list(train_set), batch_size=10, learning_rate=1, number_of_epochs=10)\n",
    "    \n",
    "    if i == 0:\n",
    "        ave_costs = costs\n",
    "    else:\n",
    "        ave_costs = [x + y for (x, y) in zip(ave_costs, costs)]\n",
    "        \n",
    "    acc = measure_accuracy(examination_set, W_2, b_2)\n",
    "    accuracy += acc"
   ]
  },
  {
   "cell_type": "code",
   "execution_count": 82,
   "metadata": {},
   "outputs": [
    {
     "name": "stdout",
     "output_type": "stream",
     "text": [
      "result-train\n",
      "91.95\n"
     ]
    },
    {
     "data": {
      "text/plain": [
       "[<matplotlib.lines.Line2D at 0x16c0415d780>]"
      ]
     },
     "execution_count": 82,
     "metadata": {},
     "output_type": "execute_result"
    },
    {
     "data": {
      "image/png": "[encoded data removed]",
      "text/plain": [
       "<Figure size 432x288 with 1 Axes>"
      ]
     },
     "metadata": {
      "needs_background": "light"
     },
     "output_type": "display_data"
    }
   ],
   "source": [
    "print(\"result-train\")  \n",
    "print(accuracy/10)\n",
    "plt.plot([x / 10 for x in ave_costs])"
   ]
  },
  {
   "cell_type": "code",
   "execution_count": 83,
   "metadata": {},
   "outputs": [],
   "source": [
    "accuracy = 0\n",
    "ave_costs = []\n",
    "for i in range(10):\n",
    "    W_2, b_2, costs = V_SGD(list(test_set), batch_size=10, learning_rate=1, number_of_epochs=10)\n",
    "    \n",
    "    if i == 0:\n",
    "        ave_costs = costs\n",
    "    else:\n",
    "        ave_costs = [x + y for (x, y) in zip(ave_costs, costs)]\n",
    "        \n",
    "    acc = measure_accuracy(examination_set, W_2, b_2)\n",
    "    accuracy += acc"
   ]
  },
  {
   "cell_type": "code",
   "execution_count": 85,
   "metadata": {},
   "outputs": [
    {
     "name": "stdout",
     "output_type": "stream",
     "text": [
      "result-test\n",
      "91.0\n"
     ]
    },
    {
     "data": {
      "text/plain": [
       "[<matplotlib.lines.Line2D at 0x16c051cec88>]"
      ]
     },
     "execution_count": 85,
     "metadata": {},
     "output_type": "execute_result"
    },
    {
     "data": {
      "image/png": "[encoded data removed]",
      "text/plain": [
       "<Figure size 432x288 with 1 Axes>"
      ]
     },
     "metadata": {
      "needs_background": "light"
     },
     "output_type": "display_data"
    }
   ],
   "source": [
    "print(\"result-test\")  \n",
    "print(accuracy/10)\n",
    "plt.plot([x / 10 for x in ave_costs])"
   ]
  },
  {
   "cell_type": "code",
   "execution_count": 89,
   "metadata": {},
   "outputs": [],
   "source": [
    "def softmax(x):\n",
    "    return np.exp(x) / np.sum(np.exp(x), axis=0)\n",
    "\n",
    "def softmax_prime(x):\n",
    "    s = x.reshape(-1,1)\n",
    "    return np.diagflat(s) - np.dot(s, s.T)\n",
    "\n",
    "softmaxVector = np.vectorize(softmax)\n",
    "softmaxPrimeVector = np.vectorize(softmax_prime)"
   ]
  },
  {
   "cell_type": "code",
   "execution_count": 108,
   "metadata": {},
   "outputs": [],
   "source": [
    "def feedforward_softmax(x, W, b):\n",
    "    z = [0, 0, 0]\n",
    "    a = [0, 0, 0]\n",
    "    \n",
    "    z[0] = ((W[0] @ x) + b[0])\n",
    "    a[0] = sigmoidVector(z[0])\n",
    "    \n",
    "    z[1] = (W[1] @ sigmoidVector(z[0]) + b[1])\n",
    "    a[1] = sigmoidVector(z[1])\n",
    "    \n",
    "    z[2] = (W[2] @ sigmoidVector(z[1]) + b[2])\n",
    "    a[2] = softmaxVector(z[2])\n",
    "\n",
    "    \n",
    "    return a, z\n",
    "\n",
    "def calc_softmax(x, W, b):\n",
    "    a, _ = feedforward_softmax(x, W, b)\n",
    "    return np.argmax(a)\n",
    "\n",
    "def measure_softmax_accuracy(X_set, W, b):\n",
    "    result = [calc_softmax(image[0], W, b) for image in X_set]\n",
    "    return sum(1 for i, image in enumerate(X_set) if np.argmax(image[1]) == result[i]) / len(X_set) * 100\n",
    "\n",
    "\n",
    "def V_SGD_softmax(input_set, batch_size, learning_rate, number_of_epochs):\n",
    "    W, b = generate_wb()\n",
    "    costs = []\n",
    "    train_set = input_set.copy()\n",
    "\n",
    "    for i in range(number_of_epochs):\n",
    "        cost = 0\n",
    "        np.random.shuffle(train_set)\n",
    "        batches = []\n",
    "\n",
    "        for l in range(0,len(train_set), batch_size):\n",
    "            batches.append(train_set[l: l + batch_size])\n",
    "\n",
    "        for batch in batches:\n",
    "            \n",
    "\n",
    "            for image in batch:\n",
    "                W2_grad = np.zeros((4, 60))\n",
    "                b2_grad = np.zeros((4, 1))\n",
    "                a2_grad = np.zeros((60, 1))\n",
    "                W1_grad = np.zeros((60, 150))\n",
    "                b1_grad = np.zeros((60, 1))\n",
    "                a1_grad = np.zeros((150, 1))\n",
    "                W0_grad = np.zeros((150, 102))\n",
    "                b0_grad = np.zeros((150, 1))\n",
    "                W_grad = [W0_grad, W1_grad, W2_grad]\n",
    "                b_grad = [b0_grad, b1_grad, b2_grad]\n",
    "                x = image[0]\n",
    "                y = image[1]\n",
    "                a, z = feedforward_softmax(x, W, b)\n",
    "                \n",
    "                cost += getcost(a[2],y)\n",
    "                b_grad[2] += 2 * (softmax_prime(z[2]) * (a[2] - y))[0]\n",
    "                W_grad[2] += (2 * softmax_prime(z[2])* (a[2] - y)) @ np.transpose(a[1])\n",
    "                a2_grad += np.transpose(W[2]) @ (2 * softmax_prime(z[2]) * (a[2] - y))\n",
    "                b_grad[1] += a2_grad * primeVector(z[1])\n",
    "                W_grad[1] += a2_grad * primeVector(z[1]) @ np.transpose(a[0]) \n",
    "                a1_grad += np.transpose(W[1]) @ (a2_grad * primeVector(z[1]))\n",
    "                b_grad[0] += a1_grad * primeVector(z[0])\n",
    "                x = x.reshape(102,1)\n",
    "                W_grad[0] += (a1_grad * primeVector(z[0])) @ np.transpose(x)\n",
    "            b[2] = b[2] - learning_rate * (b_grad[2] / batch_size)\n",
    "            b[1] = b[1] - learning_rate * (b_grad[1] / batch_size)\n",
    "            b[0] = b[0] - learning_rate * (b_grad[0] / batch_size)\n",
    "            W[2] = W[2] - learning_rate * (W_grad[2] / batch_size)\n",
    "            W[1] = W[1] - learning_rate * (W_grad[1] / batch_size)\n",
    "            W[0] = W[0] - learning_rate * (W_grad[0] / batch_size)\n",
    "        costs.append(cost / len(train_set))\n",
    "    return W, b, costs"
   ]
  },
  {
   "cell_type": "code",
   "execution_count": 109,
   "metadata": {
    "scrolled": true
   },
   "outputs": [
    {
     "ename": "ValueError",
     "evalue": "non-broadcastable output operand with shape (4,1) doesn't match the broadcast shape (4,4)",
     "output_type": "error",
     "traceback": [
      "\u001b[1;31m---------------------------------------------------------------------------\u001b[0m",
      "\u001b[1;31mValueError\u001b[0m                                Traceback (most recent call last)",
      "\u001b[1;32m<ipython-input-109-94c770f750d6>\u001b[0m in \u001b[0;36m<module>\u001b[1;34m\u001b[0m\n\u001b[0;32m      2\u001b[0m \u001b[0mave_costs\u001b[0m \u001b[1;33m=\u001b[0m \u001b[1;33m[\u001b[0m\u001b[1;33m]\u001b[0m\u001b[1;33m\u001b[0m\u001b[1;33m\u001b[0m\u001b[0m\n\u001b[0;32m      3\u001b[0m \u001b[1;32mfor\u001b[0m \u001b[0mi\u001b[0m \u001b[1;32min\u001b[0m \u001b[0mrange\u001b[0m\u001b[1;33m(\u001b[0m\u001b[1;36m10\u001b[0m\u001b[1;33m)\u001b[0m\u001b[1;33m:\u001b[0m\u001b[1;33m\u001b[0m\u001b[1;33m\u001b[0m\u001b[0m\n\u001b[1;32m----> 4\u001b[1;33m     \u001b[0mW_2\u001b[0m\u001b[1;33m,\u001b[0m \u001b[0mb_2\u001b[0m\u001b[1;33m,\u001b[0m \u001b[0mcosts\u001b[0m \u001b[1;33m=\u001b[0m \u001b[0mV_SGD_softmax\u001b[0m\u001b[1;33m(\u001b[0m\u001b[0mlist\u001b[0m\u001b[1;33m(\u001b[0m\u001b[0mexamination_set\u001b[0m\u001b[1;33m)\u001b[0m\u001b[1;33m,\u001b[0m \u001b[0mbatch_size\u001b[0m\u001b[1;33m=\u001b[0m\u001b[1;36m10\u001b[0m\u001b[1;33m,\u001b[0m \u001b[0mlearning_rate\u001b[0m\u001b[1;33m=\u001b[0m\u001b[1;36m1\u001b[0m\u001b[1;33m,\u001b[0m \u001b[0mnumber_of_epochs\u001b[0m\u001b[1;33m=\u001b[0m\u001b[1;36m10\u001b[0m\u001b[1;33m)\u001b[0m\u001b[1;33m\u001b[0m\u001b[1;33m\u001b[0m\u001b[0m\n\u001b[0m\u001b[0;32m      5\u001b[0m \u001b[1;33m\u001b[0m\u001b[0m\n\u001b[0;32m      6\u001b[0m     \u001b[1;32mif\u001b[0m \u001b[0mi\u001b[0m \u001b[1;33m==\u001b[0m \u001b[1;36m0\u001b[0m\u001b[1;33m:\u001b[0m\u001b[1;33m\u001b[0m\u001b[1;33m\u001b[0m\u001b[0m\n",
      "\u001b[1;32m<ipython-input-108-915bc289054a>\u001b[0m in \u001b[0;36mV_SGD_softmax\u001b[1;34m(input_set, batch_size, learning_rate, number_of_epochs)\u001b[0m\n\u001b[0;32m     56\u001b[0m \u001b[1;33m\u001b[0m\u001b[0m\n\u001b[0;32m     57\u001b[0m                 \u001b[0mcost\u001b[0m \u001b[1;33m+=\u001b[0m \u001b[0mgetcost\u001b[0m\u001b[1;33m(\u001b[0m\u001b[0ma\u001b[0m\u001b[1;33m[\u001b[0m\u001b[1;36m2\u001b[0m\u001b[1;33m]\u001b[0m\u001b[1;33m,\u001b[0m\u001b[0my\u001b[0m\u001b[1;33m)\u001b[0m\u001b[1;33m\u001b[0m\u001b[1;33m\u001b[0m\u001b[0m\n\u001b[1;32m---> 58\u001b[1;33m                 \u001b[0mb_grad\u001b[0m\u001b[1;33m[\u001b[0m\u001b[1;36m2\u001b[0m\u001b[1;33m]\u001b[0m \u001b[1;33m+=\u001b[0m \u001b[1;36m2\u001b[0m \u001b[1;33m*\u001b[0m \u001b[1;33m(\u001b[0m\u001b[0msoftmax_prime\u001b[0m\u001b[1;33m(\u001b[0m\u001b[0mz\u001b[0m\u001b[1;33m[\u001b[0m\u001b[1;36m2\u001b[0m\u001b[1;33m]\u001b[0m\u001b[1;33m)\u001b[0m \u001b[1;33m*\u001b[0m \u001b[1;33m(\u001b[0m\u001b[0ma\u001b[0m\u001b[1;33m[\u001b[0m\u001b[1;36m2\u001b[0m\u001b[1;33m]\u001b[0m \u001b[1;33m-\u001b[0m \u001b[0my\u001b[0m\u001b[1;33m)\u001b[0m\u001b[1;33m)\u001b[0m\u001b[1;33m[\u001b[0m\u001b[1;36m0\u001b[0m\u001b[1;33m]\u001b[0m\u001b[1;33m\u001b[0m\u001b[1;33m\u001b[0m\u001b[0m\n\u001b[0m\u001b[0;32m     59\u001b[0m                 \u001b[0mW_grad\u001b[0m\u001b[1;33m[\u001b[0m\u001b[1;36m2\u001b[0m\u001b[1;33m]\u001b[0m \u001b[1;33m+=\u001b[0m \u001b[1;33m(\u001b[0m\u001b[1;36m2\u001b[0m \u001b[1;33m*\u001b[0m \u001b[0msoftmax_prime\u001b[0m\u001b[1;33m(\u001b[0m\u001b[0mz\u001b[0m\u001b[1;33m[\u001b[0m\u001b[1;36m2\u001b[0m\u001b[1;33m]\u001b[0m\u001b[1;33m)\u001b[0m\u001b[1;33m*\u001b[0m \u001b[1;33m(\u001b[0m\u001b[0ma\u001b[0m\u001b[1;33m[\u001b[0m\u001b[1;36m2\u001b[0m\u001b[1;33m]\u001b[0m \u001b[1;33m-\u001b[0m \u001b[0my\u001b[0m\u001b[1;33m)\u001b[0m\u001b[1;33m)\u001b[0m \u001b[1;33m@\u001b[0m \u001b[0mnp\u001b[0m\u001b[1;33m.\u001b[0m\u001b[0mtranspose\u001b[0m\u001b[1;33m(\u001b[0m\u001b[0ma\u001b[0m\u001b[1;33m[\u001b[0m\u001b[1;36m1\u001b[0m\u001b[1;33m]\u001b[0m\u001b[1;33m)\u001b[0m\u001b[1;33m\u001b[0m\u001b[1;33m\u001b[0m\u001b[0m\n\u001b[0;32m     60\u001b[0m                 \u001b[0ma2_grad\u001b[0m \u001b[1;33m+=\u001b[0m \u001b[0mnp\u001b[0m\u001b[1;33m.\u001b[0m\u001b[0mtranspose\u001b[0m\u001b[1;33m(\u001b[0m\u001b[0mW\u001b[0m\u001b[1;33m[\u001b[0m\u001b[1;36m2\u001b[0m\u001b[1;33m]\u001b[0m\u001b[1;33m)\u001b[0m \u001b[1;33m@\u001b[0m \u001b[1;33m(\u001b[0m\u001b[1;36m2\u001b[0m \u001b[1;33m*\u001b[0m \u001b[0msoftmax_prime\u001b[0m\u001b[1;33m(\u001b[0m\u001b[0mz\u001b[0m\u001b[1;33m[\u001b[0m\u001b[1;36m2\u001b[0m\u001b[1;33m]\u001b[0m\u001b[1;33m)\u001b[0m \u001b[1;33m*\u001b[0m \u001b[1;33m(\u001b[0m\u001b[0ma\u001b[0m\u001b[1;33m[\u001b[0m\u001b[1;36m2\u001b[0m\u001b[1;33m]\u001b[0m \u001b[1;33m-\u001b[0m \u001b[0my\u001b[0m\u001b[1;33m)\u001b[0m\u001b[1;33m)\u001b[0m\u001b[1;33m\u001b[0m\u001b[1;33m\u001b[0m\u001b[0m\n",
      "\u001b[1;31mValueError\u001b[0m: non-broadcastable output operand with shape (4,1) doesn't match the broadcast shape (4,4)"
     ]
    }
   ],
   "source": [
    "accuracy = 0\n",
    "ave_costs = []\n",
    "for i in range(10):\n",
    "    W_2, b_2, costs = V_SGD_softmax(list(examination_set), batch_size=10, learning_rate=1, number_of_epochs=10)\n",
    "    \n",
    "    if i == 0:\n",
    "        ave_costs = costs\n",
    "    else:\n",
    "        ave_costs = [x + y for (x, y) in zip(ave_costs, costs)]\n",
    "        \n",
    "    acc = measure_softmax_accuracy(examination_set, W_2, b_2)\n",
    "    accuracy += acc\n",
    "    "
   ]
  },
  {
   "cell_type": "code",
   "execution_count": null,
   "metadata": {},
   "outputs": [],
   "source": [
    "print(\"result-train-200-softmax\")  \n",
    "print(accuracy/10)\n",
    "plt.plot([x / 10 for x in ave_costs])"
   ]
  },
  {
   "cell_type": "code",
   "execution_count": null,
   "metadata": {},
   "outputs": [],
   "source": []
  }
 ],
 "metadata": {
  "colab": {
   "collapsed_sections": [],
   "name": "Untitled.ipynb",
   "provenance": []
  },
  "kernelspec": {
   "display_name": "Python 3",
   "language": "python",
   "name": "python3"
  },
  "language_info": {
   "codemirror_mode": {
    "name": "ipython",
    "version": 3
   },
   "file_extension": ".py",
   "mimetype": "text/x-python",
   "name": "python",
   "nbconvert_exporter": "python",
   "pygments_lexer": "ipython3",
   "version": "3.7.3"
  }
 },
 "nbformat": 4,
 "nbformat_minor": 1
}
